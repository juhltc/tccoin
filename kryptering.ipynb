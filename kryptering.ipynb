{
 "metadata": {
  "language_info": {
   "codemirror_mode": {
    "name": "ipython",
    "version": 3
   },
   "file_extension": ".py",
   "mimetype": "text/x-python",
   "name": "python",
   "nbconvert_exporter": "python",
   "pygments_lexer": "ipython3",
   "version": 3
  },
  "orig_nbformat": 2
 },
 "nbformat": 4,
 "nbformat_minor": 2,
 "cells": [
  {
   "cell_type": "code",
   "execution_count": null,
   "metadata": {},
   "outputs": [],
   "source": [
    "import math\n",
    "import time\n",
    "import numpy as np\n",
    "math.gcd(3490302,343299)\n",
    "def gcd(a,b):       #Største fælles divisor ved Euklid's algoritme\n",
    "    if a%b==0:\n",
    "        return b\n",
    "    else:\n",
    "        return gcd(b,a%b)\n",
    "\n",
    "def fullgcd(a,b):       #Største fælles divisor ved Euklid's algoritme skrevet ud\n",
    "    if a%b==0:\n",
    "        print(a,\"=\",b,\"*\",a//b)\n",
    "        return print(\"Største fælles divisor er\",b)\n",
    "    else:\n",
    "        print(a,\"=\",b,\"*\",a//b,\"+\",a%b)\n",
    "        return fullgcd(b,a%b)"
   ]
  },
  {
   "cell_type": "code",
   "execution_count": null,
   "metadata": {},
   "outputs": [],
   "source": [
    "def gcdExtended(a,b):       #Bezout's identitet\n",
    "    if a==0:\n",
    "        return b,0,1\n",
    "    gcd, x1, y1 = gcdExtended(b%a,a)\n",
    "    x = y1-(b//a)*x1\n",
    "    y = x1\n",
    "    return gcd,x,y\n",
    "def inverse(a,b):       #Multiplikative inverser  \n",
    "    return gcdExtended(a,b)[1]\n",
    "\n",
    "def fullgcdExtended(a,b): #Bezout's identitet med et par mellemregninger\n",
    "    if a==0:\n",
    "        return b,0,1\n",
    "    gcd, x1, y1 = fullgcdExtended(b%a,a)\n",
    "    x = y1-(b//a)*x1\n",
    "    y = x1\n",
    "    print(a,\"*\",x,\"+\",b,\"*\",y,\"=\",gcd)\n",
    "    return gcd,x,y"
   ]
  },
  {
   "source": [
    "Tekst til tal"
   ],
   "cell_type": "markdown",
   "metadata": {}
  },
  {
   "cell_type": "code",
   "execution_count": null,
   "metadata": {},
   "outputs": [],
   "source": [
    "def converter(M):\n",
    "    M = list(M)\n",
    "    for i in range(len(M)):\n",
    "        M[i] = ord(M[i])+100\n",
    "    N = 0\n",
    "    for i in range(len(M)):\n",
    "        N += M[i]*(1000**i)\n",
    "    return N\n",
    "\n",
    "def inverter(C):\n",
    "    M = []\n",
    "    for i in range(len(str(C))//3,-1,-1):\n",
    "        M.append(int(C//(1000**i)))\n",
    "    for i in range(len(M)-1,0,-1):\n",
    "        M[i] = chr((M[i]-M[i-1]*1000)-100)\n",
    "    M.reverse()\n",
    "    del M[-1]\n",
    "    N = \"\"\n",
    "    return N.join(M)"
   ]
  },
  {
   "source": [
    "Elgamal:"
   ],
   "cell_type": "markdown",
   "metadata": {}
  },
  {
   "cell_type": "code",
   "execution_count": null,
   "metadata": {},
   "outputs": [],
   "source": [
    "def code_elgamal(M,p,ga,b):\n",
    "    return M*pow(ga,b,p)%p\n",
    "\n",
    "def decode_elgamal(C,p,gb,a):\n",
    "    return C*inverse(pow(gb,a,p),p)%p\n"
   ]
  },
  {
   "source": [
    "RSA:"
   ],
   "cell_type": "markdown",
   "metadata": {}
  },
  {
   "cell_type": "code",
   "execution_count": null,
   "metadata": {},
   "outputs": [],
   "source": [
    "def code_RSA(M,n,e):\n",
    "    return pow(M,e,n)\n",
    "\n",
    "def decode_RSA(C,n,d):\n",
    "    return pow(C,d,n)"
   ]
  }
 ]
}