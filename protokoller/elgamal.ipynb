{
 "metadata": {
  "language_info": {
   "codemirror_mode": {
    "name": "ipython",
    "version": 3
   },
   "file_extension": ".py",
   "mimetype": "text/x-python",
   "name": "python",
   "nbconvert_exporter": "python",
   "pygments_lexer": "ipython3",
   "version": "3.8.3-final"
  },
  "orig_nbformat": 2,
  "kernelspec": {
   "name": "python3",
   "display_name": "Python 3"
  }
 },
 "nbformat": 4,
 "nbformat_minor": 2,
 "cells": [
  {
   "cell_type": "code",
   "execution_count": 1,
   "metadata": {},
   "outputs": [
    {
     "output_type": "stream",
     "name": "stdout",
     "text": [
      "importing Jupyter notebook from primtal.ipynb\n"
     ]
    }
   ],
   "source": [
    "import import_ipynb\n",
    "import secrets\n",
    "import numpy\n",
    "import primtal as pr"
   ]
  },
  {
   "cell_type": "code",
   "execution_count": 99,
   "metadata": {},
   "outputs": [],
   "source": [
    "def keys_elgamal(s,k): #p,g,a,g^a\n",
    "    p = pr.prime_generator(s,k)\n",
    "    g = secrets.randbelow(p)\n",
    "    a = secrets.randbits(10)\n",
    "    return p, g, a, pow(g,a,p)\n",
    "\n",
    "def key2_elgamal(g,p):\n",
    "    b = secrets.randbits(10)\n",
    "    return b, pow(g,b,p)\n",
    "\n",
    "def code_elgamal(M,p,ga,b):\n",
    "    return M*pow(ga,b,p)%p\n",
    "\n",
    "def decode_elgamal(C,p,gb,a):\n",
    "    return C*pr.inverse(pow(gb,a,p),p)%p\n",
    "\n",
    "def converter(M):\n",
    "    M = list(M)\n",
    "    for i in range(len(M)):\n",
    "        M[i] = ord(M[i])+100\n",
    "    N = 0\n",
    "    for i in range(len(M)):\n",
    "        N += M[i]*(1000**i)\n",
    "    return N\n",
    "\n",
    "def inverter(C):\n",
    "    M = []\n",
    "    for i in range(len(str(C))//3,-1,-1):\n",
    "        M.append(int(C//(1000**i)))\n",
    "    for i in range(len(M)-1,0,-1):\n",
    "        M[i] = chr((M[i]-M[i-1]*1000)-100)\n",
    "    M.reverse()\n",
    "    del M[-1]\n",
    "    N = \"\"\n",
    "    return N.join(M)"
   ]
  },
  {
   "cell_type": "code",
   "execution_count": 100,
   "metadata": {},
   "outputs": [],
   "source": [
    "k = keys_elgamal(150,20)\n"
   ]
  },
  {
   "cell_type": "code",
   "execution_count": 101,
   "metadata": {},
   "outputs": [],
   "source": [
    "p,g,a,ga = k\n",
    "b,gb = key2_elgamal(g,p)"
   ]
  },
  {
   "cell_type": "code",
   "execution_count": 102,
   "metadata": {},
   "outputs": [
    {
     "output_type": "execute_result",
     "data": {
      "text/plain": [
       "62695126182085835559400065091834411905923833880229850984296017422154791336663048191618313193348339572148327314614829356557917094930502995295350127429"
      ]
     },
     "metadata": {},
     "execution_count": 102
    }
   ],
   "source": [
    "M = converter(\"Hej, jeg hedder Rasmus\")\n",
    "C = code_elgamal(M,p,ga,b)\n",
    "C"
   ]
  },
  {
   "cell_type": "code",
   "execution_count": 103,
   "metadata": {},
   "outputs": [
    {
     "output_type": "execute_result",
     "data": {
      "text/plain": [
       "'Hej, jeg hedder Rasmus'"
      ]
     },
     "metadata": {},
     "execution_count": 103
    }
   ],
   "source": [
    "M = decode_elgamal(C,p,gb,a)\n",
    "inverter(M)"
   ]
  }
 ]
}
