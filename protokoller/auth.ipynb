{
 "metadata": {
  "language_info": {
   "codemirror_mode": {
    "name": "ipython",
    "version": 3
   },
   "file_extension": ".py",
   "mimetype": "text/x-python",
   "name": "python",
   "nbconvert_exporter": "python",
   "pygments_lexer": "ipython3",
   "version": "3.8.3-final"
  },
  "orig_nbformat": 2,
  "kernelspec": {
   "name": "python3",
   "display_name": "Python 3"
  }
 },
 "nbformat": 4,
 "nbformat_minor": 2,
 "cells": [
  {
   "cell_type": "code",
   "execution_count": 2,
   "metadata": {},
   "outputs": [],
   "source": [
    "from hashlib import sha256\n",
    "import import_ipynb\n",
    "import primtal as pr\n",
    "import rsa\n",
    "import elgamal as el"
   ]
  },
  {
   "cell_type": "code",
   "execution_count": 8,
   "metadata": {},
   "outputs": [],
   "source": [
    "p,g,x,y = el.keys_elgamal(500,40) "
   ]
  },
  {
   "cell_type": "code",
   "execution_count": 25,
   "metadata": {},
   "outputs": [],
   "source": [
    "def sign(M):\n",
    "    k = 0\n",
    "    while pr.gcd(k,p-1)>1:\n",
    "        k, r = el.key2_elgamal(g,p)\n",
    "    s = 0\n",
    "    while s==0:\n",
    "        s = ((M-x*r)*pr.inverse(k,p-1))%(p-1)\n",
    "    return (r,s)\n",
    "\n",
    "def verify(r,s,M):\n",
    "    if pow(g,M,p)==(pow(y,r,p)*pow(r,s,p))%p:\n",
    "        return True\n",
    "    return False"
   ]
  },
  {
   "cell_type": "code",
   "execution_count": 26,
   "metadata": {},
   "outputs": [],
   "source": [
    "M = rsa.converter(\"Jeg hedder Rasmus\")\n",
    "r,s = sign(M)"
   ]
  },
  {
   "cell_type": "code",
   "execution_count": 27,
   "metadata": {},
   "outputs": [
    {
     "output_type": "execute_result",
     "data": {
      "text/plain": [
       "True"
      ]
     },
     "metadata": {},
     "execution_count": 27
    }
   ],
   "source": [
    "verify(r,s,M)"
   ]
  },
  {
   "cell_type": "code",
   "execution_count": null,
   "metadata": {},
   "outputs": [],
   "source": []
  }
 ]
}
