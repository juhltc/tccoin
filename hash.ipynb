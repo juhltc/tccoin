{
 "metadata": {
  "language_info": {
   "codemirror_mode": {
    "name": "ipython",
    "version": 3
   },
   "file_extension": ".py",
   "mimetype": "text/x-python",
   "name": "python",
   "nbconvert_exporter": "python",
   "pygments_lexer": "ipython3",
   "version": "3.8.3-final"
  },
  "orig_nbformat": 2,
  "kernelspec": {
   "name": "python3",
   "display_name": "Python 3"
  }
 },
 "nbformat": 4,
 "nbformat_minor": 2,
 "cells": [
  {
   "cell_type": "code",
   "execution_count": 7,
   "metadata": {},
   "outputs": [
    {
     "output_type": "stream",
     "name": "stdout",
     "text": [
      "importing Jupyter notebook from RSA.ipynb\n"
     ]
    }
   ],
   "source": [
    "from hashlib import sha256\n",
    "import secrets\n",
    "import import_ipynb\n",
    "import primtal as pr\n",
    "import RSA"
   ]
  },
  {
   "cell_type": "code",
   "execution_count": 8,
   "metadata": {},
   "outputs": [],
   "source": [
    "def quad_reg(epsilon,m,p,q):\n",
    "    for _ in range(40):\n",
    "        p = pr.prime_generator(30,20)\n",
    "        q = pr.prime_generator(30,20)\n",
    "        y = secrets.randbelow(p*q)\n",
    "        if pr.gcd(y,p*q)==1 and pow(y,((p-1)//2),p)==-1:\n",
    "            break\n",
    "    return pow(y,epsilon,p*q)*pow(m,2,p*q)%p"
   ]
  },
  {
   "cell_type": "code",
   "execution_count": 9,
   "metadata": {},
   "outputs": [
    {
     "output_type": "error",
     "ename": "NameError",
     "evalue": "name 'p' is not defined",
     "traceback": [
      "\u001b[1;31m---------------------------------------------------------------------------\u001b[0m",
      "\u001b[1;31mNameError\u001b[0m                                 Traceback (most recent call last)",
      "\u001b[1;32m<ipython-input-9-9371a884224a>\u001b[0m in \u001b[0;36m<module>\u001b[1;34m\u001b[0m\n\u001b[1;32m----> 1\u001b[1;33m \u001b[0mquad_reg\u001b[0m\u001b[1;33m(\u001b[0m\u001b[1;36m1\u001b[0m\u001b[1;33m,\u001b[0m\u001b[1;36m55654265275277455555555556666666666666666666666234246243245779\u001b[0m\u001b[1;33m,\u001b[0m\u001b[0mp\u001b[0m\u001b[1;33m,\u001b[0m\u001b[0mq\u001b[0m\u001b[1;33m)\u001b[0m\u001b[1;33m\u001b[0m\u001b[1;33m\u001b[0m\u001b[0m\n\u001b[0m",
      "\u001b[1;31mNameError\u001b[0m: name 'p' is not defined"
     ]
    }
   ],
   "source": [
    "quad_reg(1,55654265275277455555555556666666666666666666666234246243245779,p,q)"
   ]
  },
  {
   "cell_type": "code",
   "execution_count": null,
   "metadata": {},
   "outputs": [],
   "source": [
    "def rotate(string,n):\n",
    "    return string[len(string)-n:]+string[:len(string)-n]\n",
    "\n",
    "def shift(string,n):\n",
    "    for i in range(n):\n",
    "        string = \"0\" + string[0:len(string)-1]\n",
    "    return string\n"
   ]
  },
  {
   "cell_type": "code",
   "execution_count": 1,
   "metadata": {},
   "outputs": [],
   "source": [
    "def sha256r(string):\n",
    "    F = hex(RSA.converter(string+\"TalentCamp's hash-funktion\"))  #Besked til heximalværdier\n",
    "    q = [0x6a09e667, 0xbb67ae85, 0x3c6ef372, 0xa54ff53a, 0x510e527f, 0x9b05688c, 0x1f83d9ab, 0x5be0cd19]  #Faste hashing værdier, rødder af primtal\n",
    "    k = [0x428a2f98, 0x71374491, 0xb5c0fbcf, 0xe9b5dba5, 0x3956c25b, 0x59f111f1, 0x923f82a4, 0xab1c5ed5, #Rødder af primtal\n",
    "    0xd807aa98, 0x12835b01, 0x243185be, 0x550c7dc3, 0x72be5d74, 0x80deb1fe, 0x9bdc06a7, 0xc19bf174,\n",
    "    0xe49b69c1, 0xefbe4786, 0x0fc19dc6, 0x240ca1cc, 0x2de92c6f, 0x4a7484aa, 0x5cb0a9dc, 0x76f988da,\n",
    "    0x983e5152, 0xa831c66d, 0xb00327c8, 0xbf597fc7, 0xc6e00bf3, 0xd5a79147, 0x06ca6351, 0x14292967,\n",
    "    0x27b70a85, 0x2e1b2138, 0x4d2c6dfc, 0x53380d13, 0x650a7354, 0x766a0abb, 0x81c2c92e, 0x92722c85,\n",
    "    0xa2bfe8a1, 0xa81a664b, 0xc24b8b70, 0xc76c51a3, 0xd192e819, 0xd6990624, 0xf40e3585, 0x106aa070,\n",
    "    0x19a4c116, 0x1e376c08, 0x2748774c, 0x34b0bcb5, 0x391c0cb3, 0x4ed8aa4a, 0x5b9cca4f, 0x682e6ff3,\n",
    "    0x748f82ee, 0x78a5636f, 0x84c87814, 0x8cc70208, 0x90befffa, 0xa4506ceb, 0xbef9a3f7, 0xc67178f2]\n",
    "\n",
    "    L = hex(int(F,16)%pow(2,64)) #Padding af datamaterialet\n",
    "    F = F+\"1\"\n",
    "    while (len(F)+14)%128!=0:\n",
    "        F += \"0\"\n",
    "    F = F+L[2:]\n",
    "    l = (len(F)-2)//128\n",
    "\n",
    "    M = []      #Split op i bits\n",
    "    for i in range(l):\n",
    "        M.append(F[2+i*128:2+128+i*128])\n",
    "\n",
    "    for i in range(l):      #Split op i flere bits\n",
    "        W = []\n",
    "        for j in range(64):\n",
    "            W.append(\"0\")\n",
    "        for j in range(16):\n",
    "            W[j] = M[i][8*j:8*j+8]\n",
    "        for j in range(16,64):\n",
    "            s0 = int(\"0x\"+rotate(W[j-15],7),16)^int(\"0x\"+rotate(W[j-15],18),16)^int(\"0x\"+shift(W[j-15],3),16)\n",
    "            s1 = int(\"0x\"+rotate(W[j-2],17),16)^int(\"0x\"+rotate(W[j-2],19),16)^int(\"0x\"+shift(W[j-2],10),16)\n",
    "            W[j] = hex((int(\"0x\"+W[j-16],16) + s0 + int(\"0x\"+W[j-7],16) + s1)%pow(2,32))[2:]\n",
    "        a,b,c,d,e,f,g,h = q\n",
    "        for j in range(64):\n",
    "            S1 = int(\"0x\"+rotate(hex(e)[2:],6),16)^int(\"0x\"+rotate(hex(e)[2:],11),16)^int(\"0x\"+rotate(hex(e)[2:],25),16)\n",
    "            ch = (e&f)^((~e)&g)\n",
    "            temp1 = (h + S1 + ch + k[j]+int(\"0x\"+W[j],16))%pow(2,32)\n",
    "            S0 = int(\"0x\"+rotate(hex(a)[2:],2),16)^int(\"0x\"+rotate(hex(a)[2:],13),16)^int(\"0x\"+rotate(hex(a)[2:],22),16)\n",
    "            maj = (a&b)^(a&c)^(b&c)\n",
    "            temp2 = (S0 + maj)%pow(2,32)\n",
    "\n",
    "            h = g\n",
    "            g = f\n",
    "            f = e\n",
    "            e = (d+temp1)%pow(2,32)\n",
    "            d = c\n",
    "            c = b\n",
    "            b = a\n",
    "            a = (temp1+temp2)%pow(2,32)\n",
    "        q[0] = (q[0]+a)%pow(2,32)\n",
    "        q[1] = (q[1]+b)%pow(2,32)\n",
    "        q[2] = (q[2]+c)%pow(2,32)\n",
    "        q[3] = (q[3]+d)%pow(2,32)\n",
    "        q[4] = (q[4]+e)%pow(2,32)\n",
    "        q[5] = (q[5]+f)%pow(2,32)\n",
    "        q[6] = (q[6]+g)%pow(2,32)\n",
    "        q[7] = (q[7]+h)%pow(2,32)\n",
    "    for i in range(8):\n",
    "        q[i] = hex(q[i])[2:]\n",
    "        while len(q[i])!=8:\n",
    "            q[i] = '0'+q[i]\n",
    "    return q[0]+q[1]+q[2]+q[3]+q[4]+q[5]+q[6]+q[7]\n",
    "\n",
    "    "
   ]
  },
  {
   "cell_type": "code",
   "execution_count": 14,
   "metadata": {},
   "outputs": [
    {
     "output_type": "execute_result",
     "data": {
      "text/plain": [
       "'d9ddff9c90cfcbc877e1b80a0f4416d6322f060bc1bcceb028a903b4bf35c95c'"
      ]
     },
     "metadata": {},
     "execution_count": 14
    }
   ],
   "source": [
    "sha256r(\"Der er et yndigt land, det står med brede bøge nær salten østerstrand nær salten østerstrand. Det bugter sig i bakke, dal, det hedder gamle Danmark, og det er Frejas sal, og det er Frejas sal. Der sad i fordums tid de harniskklædte kæmper, udhvilede fra strid udhvilede fra strid. Så drog de frem til fjenders mén, nu hvile deres bene bag højens bautasten, bag højens bautasten. Det land endnu er skønt, thi blå sig søen bælter, og løvet står så grønt og løvet står så grønt. Og ædle kvinder, skønne mø'r og mænd og raske svende bebo de danskes øer, bebo de danskes øer. Hil drot og fædreland! Hil hver en danneborger, som virker, hvad han kan som virker, hvad han kan! Vort gamle Danmark skal bestå, så længe bøgen spejler sin top i bølgen blå, sin top i bølgen blå. Vort gamle Danmark skal bestå, så længe bøgen spejler sin top i bølgen blå, sin top i bølgen blå.\")"
   ]
  },
  {
   "cell_type": "code",
   "execution_count": 338,
   "metadata": {},
   "outputs": [
    {
     "output_type": "execute_result",
     "data": {
      "text/plain": [
       "11"
      ]
     },
     "metadata": {},
     "execution_count": 338
    }
   ],
   "source": [
    "len('21142A4B070')"
   ]
  },
  {
   "cell_type": "code",
   "execution_count": 361,
   "metadata": {},
   "outputs": [
    {
     "output_type": "execute_result",
     "data": {
      "text/plain": [
       "(6, 15, 10, 5)"
      ]
     },
     "metadata": {},
     "execution_count": 361
    }
   ],
   "source": [
    "m,k = secrets.randbelow(16),secrets.randbelow(16)\n",
    "m,k,(m*k)%16, (m+k)%16\n"
   ]
  },
  {
   "cell_type": "code",
   "execution_count": 15,
   "metadata": {},
   "outputs": [
    {
     "output_type": "execute_result",
     "data": {
      "text/plain": [
       "'500f87e2a47f8d1096a42d45b95994af6fc5cd1e1674c3c069b2a86d2d281ee4'"
      ]
     },
     "metadata": {},
     "execution_count": 15
    }
   ],
   "source": [
    "sha256(b'42309jgdfsijsdfijoi23j493j290j90fj2490jf34909fj4093jfjsdjf9j230r43t084309340i2390i490i32094i329i240jfjisofdsklfjl32').hexdigest()"
   ]
  },
  {
   "cell_type": "code",
   "execution_count": null,
   "metadata": {},
   "outputs": [],
   "source": []
  }
 ]
}