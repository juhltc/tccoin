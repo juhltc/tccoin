{
 "metadata": {
  "language_info": {
   "codemirror_mode": {
    "name": "ipython",
    "version": 3
   },
   "file_extension": ".py",
   "mimetype": "text/x-python",
   "name": "python",
   "nbconvert_exporter": "python",
   "pygments_lexer": "ipython3",
   "version": "3.8.3-final"
  },
  "orig_nbformat": 2,
  "kernelspec": {
   "name": "python3",
   "display_name": "Python 3"
  }
 },
 "nbformat": 4,
 "nbformat_minor": 2,
 "cells": [
  {
   "cell_type": "code",
   "execution_count": 37,
   "metadata": {},
   "outputs": [],
   "source": [
    "from hashlib import sha256\n",
    "import import_ipynb\n",
    "import primtal\n",
    "import json\n",
    "import time\n",
    "import hash"
   ]
  },
  {
   "cell_type": "code",
   "execution_count": 38,
   "metadata": {},
   "outputs": [],
   "source": [
    "class Block:\n",
    "    def __init__(self, index, transactions, timestamp,previous_hash, nonce=0):\n",
    "        self.index = index\n",
    "        self.transactions = transactions\n",
    "        self.timestamp = timestamp\n",
    "        self.previous_hash = previous_hash\n",
    "        self.nonce = nonce\n",
    "    \n",
    "    def compute_hash(self):\n",
    "        block_string = json.dumps(self.__dict__, sort_keys = True)\n",
    "        return sha256(block_string.encode()).hexdigest()"
   ]
  },
  {
   "cell_type": "code",
   "execution_count": 39,
   "metadata": {},
   "outputs": [],
   "source": [
    "class BlockChain:\n",
    "    def __init__(self):\n",
    "        self.unconfirmed_transactions = []\n",
    "        self.chain = []\n",
    "        self.create_genesis_block()\n",
    "\n",
    "    def create_genesis_block(self):\n",
    "        genesis_block = Block(0, [], time.time(), \"0\")\n",
    "        genesis_block.hash = genesis_block.compute_hash()\n",
    "        self.chain.append(genesis_block)\n",
    "    \n",
    "    @property\n",
    "    def last_block(self):\n",
    "        return self.chain[-1]\n",
    "    \n",
    "    difficulty=2\n",
    "    def proof_of_work(self,block): \n",
    "        block.nonce = 0\n",
    "        computed_hash = block.compute_hash()\n",
    "        while not computed_hash.startswith('0' * BlockChain.difficulty):\n",
    "            block.nonce += 1\n",
    "            computed_hash = block.compute_hash()\n",
    "        return computed_hash\n",
    "\n",
    "    \n",
    "    def add_block(self,block,proof):\n",
    "        previous_hash = self.last_block.hash\n",
    "        if previous_hash != block.previous_hash:\n",
    "            return False\n",
    "        if not self.is_valid_proof(block, proof):\n",
    "            return False\n",
    "        block.hash = proof\n",
    "        self.chain.append(block)\n",
    "        return True\n",
    "\n",
    "    def is_valid_proof(self, block, block_hash):\n",
    "        return (block_hash.startswith('0' * BlockChain.difficulty)) and block_hash == block.compute_hash()\n",
    "        \n",
    "    def add_new_transaction(self, transaction):\n",
    "        self.unconfirmed_transactions.append(transaction)\n",
    "\n",
    "    def mine(self):\n",
    "        if not self.unconfirmed_transactions:\n",
    "            return False\n",
    "        \n",
    "        last_block = self.last_block\n",
    "\n",
    "        new_block = Block(index = last_block.index + 1,\n",
    "                          transactions = self.unconfirmed_transactions,\n",
    "                          timestamp = time.time(),\n",
    "                          previous_hash = last_block.hash)\n",
    "        \n",
    "        proof = self.proof_of_work(new_block)\n",
    "        self.add_block(new_block,proof)\n",
    "        self.unconfirmed_transactions = []\n",
    "        return new_block.index\n",
    "\n",
    "    "
   ]
  },
  {
   "cell_type": "code",
   "execution_count": 40,
   "metadata": {},
   "outputs": [],
   "source": [
    "blockchain = BlockChain()"
   ]
  },
  {
   "cell_type": "code",
   "execution_count": 41,
   "metadata": {},
   "outputs": [],
   "source": [
    "blockchain.add_new_transaction(\"15 coins fra Rasmus til Rasmus\")"
   ]
  },
  {
   "cell_type": "code",
   "execution_count": 42,
   "metadata": {},
   "outputs": [
    {
     "output_type": "execute_result",
     "data": {
      "text/plain": [
       "[<__main__.Block at 0x1bdcf3dda90>]"
      ]
     },
     "metadata": {},
     "execution_count": 42
    }
   ],
   "source": [
    "blockchain.chain"
   ]
  },
  {
   "cell_type": "code",
   "execution_count": null,
   "metadata": {},
   "outputs": [],
   "source": []
  }
 ]
}
