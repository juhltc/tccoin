{
 "metadata": {
  "language_info": {
   "codemirror_mode": {
    "name": "ipython",
    "version": 3
   },
   "file_extension": ".py",
   "mimetype": "text/x-python",
   "name": "python",
   "nbconvert_exporter": "python",
   "pygments_lexer": "ipython3",
   "version": "3.8.3-final"
  },
  "orig_nbformat": 2,
  "kernelspec": {
   "name": "python38364bitvenvvenve16b2a7ddf21434281ff0e2e5464c3f1",
   "display_name": "Python 3.8.3 64-bit ('.venv': venv)"
  }
 },
 "nbformat": 4,
 "nbformat_minor": 2,
 "cells": [
  {
   "source": [
    "Velkommen til primtalstestning!\n",
    "\n",
    "Vi skal her arbejde med Euklid's algoritme, primtalssien og moderne primtalstestning\n",
    "\n",
    "Først implementeres Euklid's algoritme og Bezout's identitet"
   ],
   "cell_type": "markdown",
   "metadata": {}
  },
  {
   "cell_type": "code",
   "execution_count": 78,
   "metadata": {},
   "outputs": [],
   "source": [
    "import math\n",
    "import time\n",
    "import secrets\n",
    "import numpy as np\n",
    "math.gcd(3490302,343299)\n",
    "def gcd(a,b):       #Største fælles divisor ved Euklid's algoritme\n",
    "    if a%b==0:\n",
    "        return b\n",
    "    else:\n",
    "        return gcd(b,a%b)\n",
    "\n",
    "def fullgcd(a,b):       #Største fælles divisor ved Euklid's algoritme skrevet ud\n",
    "    if a%b==0:\n",
    "        print(a,\"=\",b,\"*\",a//b)\n",
    "        return print(\"Største fælles divisor er\",b)\n",
    "    else:\n",
    "        print(a,\"=\",b,\"*\",a//b,\"+\",a%b)\n",
    "        return fullgcd(b,a%b)"
   ]
  },
  {
   "cell_type": "code",
   "execution_count": 79,
   "metadata": {},
   "outputs": [],
   "source": [
    "def gcdExtended(a,b):       #Bezout's identitet\n",
    "    if a==0:\n",
    "        return b,0,1\n",
    "    gcd, x1, y1 = gcdExtended(b%a,a)\n",
    "    x = y1-(b//a)*x1\n",
    "    y = x1\n",
    "    return gcd,x,y\n",
    "def inverse(a,b):       #Multiplikative inverser  \n",
    "    return gcdExtended(a,b)[1]\n",
    "\n",
    "def fullgcdExtended(a,b): #Bezout's identitet med et par mellemregninger\n",
    "    if a==0:\n",
    "        return b,0,1\n",
    "    gcd, x1, y1 = fullgcdExtended(b%a,a)\n",
    "    x = y1-(b//a)*x1\n",
    "    y = x1\n",
    "    print(a,\"*\",x,\"+\",b,\"*\",y,\"=\",gcd)\n",
    "    return gcd,x,y"
   ]
  },
  {
   "source": [
    "Vi benytter nu standardmetoden for primtalsfaktorisering"
   ],
   "cell_type": "markdown",
   "metadata": {}
  },
  {
   "cell_type": "code",
   "execution_count": 80,
   "metadata": {},
   "outputs": [],
   "source": [
    "def brute_force(p):\n",
    "    for i in range(2,p):\n",
    "        if p%i==0:\n",
    "            return print(p, \"er et sammensat tal med faktorerne\", i, \"og\", p//i)\n",
    "    return print(p, \"er et primtal\")"
   ]
  },
  {
   "cell_type": "code",
   "execution_count": 81,
   "metadata": {},
   "outputs": [],
   "source": [
    "def brute_force_v2(p):\n",
    "    for i in range(2,int(np.sqrt(p))+1):\n",
    "        if p%i==0:\n",
    "            return print(p, \"er et sammensat tal med faktorerne\", i, \"og\", p//i)\n",
    "    return print(p, \"er et primtal\")"
   ]
  },
  {
   "source": [
    "Vi kigger nu på primtalssierne"
   ],
   "cell_type": "markdown",
   "metadata": {}
  },
  {
   "cell_type": "code",
   "execution_count": 82,
   "metadata": {},
   "outputs": [],
   "source": [
    "import numpy as np\n",
    "def prim_si(n):   # Eratosthenes primtalssi\n",
    "    is_prime = np.ones((n+1,), dtype=bool)\n",
    "    is_prime[:2] = 0\n",
    "    N_max = int(np.sqrt(n)+1)\n",
    "    for j in range(2, N_max +1):\n",
    "        is_prime[2*j::j] = 0\n",
    "    return np.nonzero(is_prime)[0]"
   ]
  },
  {
   "cell_type": "code",
   "execution_count": 83,
   "metadata": {},
   "outputs": [],
   "source": [
    "def prim_si_v2(n): # Udvidedet primtalssi\n",
    "    # Vi springer nu alle værdier, der allerede er streget ud, over\n",
    "    is_prime = np.ones((n+1,), dtype=bool)\n",
    "    is_prime[:2] = 0\n",
    "    N_max = int(np.sqrt(n)+1)\n",
    "    for j in range(2, N_max +1):\n",
    "        if is_prime[j] == 1:\n",
    "            is_prime[j**2::j] = 0\n",
    "    return np.nonzero(is_prime)[0]"
   ]
  },
  {
   "source": [
    "Toke's Kode"
   ],
   "cell_type": "markdown",
   "metadata": {}
  },
  {
   "cell_type": "code",
   "execution_count": 84,
   "metadata": {},
   "outputs": [
    {
     "output_type": "execute_result",
     "data": {
      "text/plain": [
       "'\\ndef CheckPrime(number):\\n    maxCheck = math.floor(math.sqrt(number))\\n    i = 0\\n    while p[i] <= maxCheck:\\n        if (number % p[i]) == 0:\\n            return False\\n        else:\\n            i += 1\\n    return True\\n\\n#def primgen(lowestNumber):\\n    b = math.ceil(lowestNumber/6)\\n    a = -1\\n\\n    primeNumber = 1\\n    while primeNumber == 1:\\n        if CheckPrime(6*b - a):\\n            primeNumber = (6*b - a)\\n        a *= -1\\n        if a == 1:\\n            b += 1\\n    return primeNumber\\n'"
      ]
     },
     "metadata": {},
     "execution_count": 84
    }
   ],
   "source": [
    "#p = prim_si_v2(10**9)\n",
    "\"\"\"\n",
    "def CheckPrime(number):\n",
    "    maxCheck = math.floor(math.sqrt(number))\n",
    "    i = 0\n",
    "    while p[i] <= maxCheck:\n",
    "        if (number % p[i]) == 0:\n",
    "            return False\n",
    "        else:\n",
    "            i += 1\n",
    "    return True\n",
    "\n",
    "#def primgen(lowestNumber):\n",
    "    b = math.ceil(lowestNumber/6)\n",
    "    a = -1\n",
    "\n",
    "    primeNumber = 1\n",
    "    while primeNumber == 1:\n",
    "        if CheckPrime(6*b - a):\n",
    "            primeNumber = (6*b - a)\n",
    "        a *= -1\n",
    "        if a == 1:\n",
    "            b += 1\n",
    "    return primeNumber\n",
    "\"\"\""
   ]
  },
  {
   "cell_type": "code",
   "execution_count": 85,
   "metadata": {},
   "outputs": [],
   "source": [
    "#primgen(35959420594305940)"
   ]
  },
  {
   "source": [
    "Sandsynlighedsbaseret primtalstestning"
   ],
   "cell_type": "markdown",
   "metadata": {}
  },
  {
   "cell_type": "code",
   "execution_count": 86,
   "metadata": {},
   "outputs": [],
   "source": [
    "def fpp(n,k):      #Første sandsynlighedsbaserede primtalstestning\n",
    "    s,t = 0, n-1\n",
    "    while t%2==0:\n",
    "        s += 1\n",
    "        t //= 2\n",
    "    for _ in range(k):\n",
    "        b = secrets.randbelow(n)\n",
    "        if b==0:\n",
    "            continue\n",
    "        x = gcd(b,n)\n",
    "        if x>1:\n",
    "            return print(n, \"er et sammensat tal med faktorer\", x, \"og\", n//x)\n",
    "        if pow(b,n-1,n)>1:\n",
    "            return print(n, \"er et sammensat tal\")\n",
    "    return print(n, \"er et et primtal\")\n",
    "\n",
    "def fppnum(n,k):      #Første sandsynlighedsbaserede primtalstestning\n",
    "    s,t = 0, n-1\n",
    "    while t%2==0:\n",
    "        s += 1\n",
    "        t //= 2\n",
    "    for _ in range(k):\n",
    "        b = secrets.randbelow(n)\n",
    "        if b==0:\n",
    "            continue\n",
    "        x = gcd(b,n)\n",
    "        if x>1:\n",
    "            return False\n",
    "        if pow(b,n-1,n)>1:\n",
    "            return False\n",
    "    return True"
   ]
  },
  {
   "cell_type": "code",
   "execution_count": 87,
   "metadata": {},
   "outputs": [
    {
     "output_type": "execute_result",
     "data": {
      "text/plain": [
       "True"
      ]
     },
     "metadata": {},
     "execution_count": 87
    }
   ],
   "source": [
    "fppnum(35959420594306051,40)"
   ]
  },
  {
   "cell_type": "code",
   "execution_count": 88,
   "metadata": {},
   "outputs": [],
   "source": [
    "import secrets\n",
    "def miller_rabin(n,k):      #Miller-Rabin testning\n",
    "    s,t = 0, n-1\n",
    "    while t%2==0:\n",
    "        s += 1\n",
    "        t //= 2\n",
    "    for _ in range(k):\n",
    "        b = secrets.randbelow(n)\n",
    "        if b==0:\n",
    "            continue\n",
    "        x = gcd(b,n)\n",
    "        if x>1:\n",
    "            return print(n, \"er et sammensat tal med faktorer\", x, \"og\", n//x)\n",
    "        if pow(b,n-1,n)>1:\n",
    "            return print(n, \"er et sammensat tal\")\n",
    "        \n",
    "        y = pow(b,t,n)\n",
    "        if y ==1 or y==-1:\n",
    "            continue\n",
    "        for _ in range(1,s):\n",
    "            y = pow(y,2,n)\n",
    "            if y==-1:\n",
    "                break\n",
    "            if y==1:\n",
    "                return print(n, \"er et sammensat tal\")\n",
    "    return print(n, \"er et primtal med sikkerhed\", 1-pow(1/4,k))\n",
    "        "
   ]
  },
  {
   "cell_type": "code",
   "execution_count": 89,
   "metadata": {},
   "outputs": [],
   "source": [
    "def mr_num(n,k):      #Miller-Rabin testning til primtalsgenerering\n",
    "    s,t = 0, n-1\n",
    "    while t%2==0:\n",
    "        s += 1\n",
    "        t //= 2\n",
    "    for _ in range(k):\n",
    "        b = secrets.randbelow(n)\n",
    "        if b==0:\n",
    "            continue\n",
    "        x = gcd(b,n)\n",
    "        if x>1:\n",
    "            return False\n",
    "        if pow(b,n-1,n)>1:\n",
    "            return False\n",
    "        \n",
    "        y = pow(b,t,n)\n",
    "        if y ==1 or y==-1:\n",
    "            continue\n",
    "        for _ in range(1,s):\n",
    "            y = pow(y,2,n)\n",
    "            if y==-1:\n",
    "                break\n",
    "            if y==1:\n",
    "                return False\n",
    "    return True"
   ]
  },
  {
   "source": [
    "Vi kan nu generere meget store primtal!"
   ],
   "cell_type": "markdown",
   "metadata": {}
  },
  {
   "source": [
    "def prime_generator(s,k):\n",
    "    x = 2*secrets.randbits(int(s*3.33))+1\n",
    "    for i in range(1,100*k):\n",
    "        p = x+2*i\n",
    "        if mr_num(p,k) == 1:\n",
    "            break\n",
    "    return p"
   ],
   "cell_type": "code",
   "metadata": {},
   "execution_count": 90,
   "outputs": []
  },
  {
   "cell_type": "code",
   "execution_count": 91,
   "metadata": {},
   "outputs": [
    {
     "output_type": "execute_result",
     "data": {
      "text/plain": [
       "541435547016762551262806300788437084546497749385272516788587179367475269623462558639563559390719753754301930972970474031223279256674111499314829894415561424460958447628503957663141485327208079853241062697684372834003843522938530826160045710145154180703076670012046743748696076593576417616255339457810050061738358071866920847091809967870111549907719051"
      ]
     },
     "metadata": {},
     "execution_count": 91
    }
   ],
   "source": [
    "prime_generator(350,20)"
   ]
  },
  {
   "cell_type": "code",
   "execution_count": null,
   "metadata": {},
   "outputs": [],
   "source": []
  }
 ]
}