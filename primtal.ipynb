{
 "metadata": {
  "language_info": {
   "codemirror_mode": {
    "name": "ipython",
    "version": 3
   },
   "file_extension": ".py",
   "mimetype": "text/x-python",
   "name": "python",
   "nbconvert_exporter": "python",
   "pygments_lexer": "ipython3",
   "version": "3.8.3-final"
  },
  "orig_nbformat": 2,
  "kernelspec": {
   "name": "python38364bitvenvvenve16b2a7ddf21434281ff0e2e5464c3f1",
   "display_name": "Python 3.8.3 64-bit ('.venv': venv)"
  }
 },
 "nbformat": 4,
 "nbformat_minor": 2,
 "cells": [
  {
   "source": [
    "Velkommen til primtalstestning!\n",
    "\n",
    "Vi skal her arbejde med Euklid's algoritme, primtalssien og moderne primtalstestning\n",
    "\n",
    "Først implementeres Euklid's algoritme og Bezout's identitet"
   ],
   "cell_type": "markdown",
   "metadata": {}
  },
  {
   "cell_type": "code",
   "execution_count": 2,
   "metadata": {},
   "outputs": [],
   "source": [
    "import math\n",
    "import time\n",
    "import numpy as np\n",
    "math.gcd(3490302,343299)\n",
    "def gcd(a,b):       #Største fælles divisor ved Euklid's algoritme\n",
    "    if a%b==0:\n",
    "        return b\n",
    "    else:\n",
    "        return gcd(b,a%b)\n",
    "\n",
    "def fullgcd(a,b):       #Største fælles divisor ved Euklid's algoritme skrevet ud\n",
    "    if a%b==0:\n",
    "        print(a,\"=\",b,\"*\",a//b)\n",
    "        return print(\"Største fælles divisor er\",b)\n",
    "    else:\n",
    "        print(a,\"=\",b,\"*\",a//b,\"+\",a%b)\n",
    "        return fullgcd(b,a%b)"
   ]
  },
  {
   "cell_type": "code",
   "execution_count": 3,
   "metadata": {},
   "outputs": [],
   "source": [
    "def gcdExtended(a,b):       #Bezout's identitet\n",
    "    if a==0:\n",
    "        return b,0,1\n",
    "    gcd, x1, y1 = gcdExtended(b%a,a)\n",
    "    x = y1-(b//a)*x1\n",
    "    y = x1\n",
    "    return gcd,x,y\n",
    "def inverse(a,b):       #Multiplikative inverser  \n",
    "    return gcdExtended(a,b)[1]\n",
    "\n",
    "def fullgcdExtended(a,b): #Bezout's identitet med et par mellemregninger\n",
    "    if a==0:\n",
    "        return b,0,1\n",
    "    gcd, x1, y1 = fullgcdExtended(b%a,a)\n",
    "    x = y1-(b//a)*x1\n",
    "    y = x1\n",
    "    print(a,\"*\",x,\"+\",b,\"*\",y,\"=\",gcd)\n",
    "    return gcd,x,y"
   ]
  },
  {
   "source": [
    "Vi benytter nu standardmetoden for primtalsfaktorisering"
   ],
   "cell_type": "markdown",
   "metadata": {}
  },
  {
   "cell_type": "code",
   "execution_count": 4,
   "metadata": {},
   "outputs": [],
   "source": [
    "def brute_force(p):\n",
    "    for i in range(2,p):\n",
    "        if p%i==0:\n",
    "            return print(p, \"er et sammensat tal med faktorerne\", i, \"og\", p//i)\n",
    "    return print(p, \"er et primtal\")"
   ]
  },
  {
   "cell_type": "code",
   "execution_count": 5,
   "metadata": {},
   "outputs": [],
   "source": [
    "def brute_force_v2(p):\n",
    "    for i in range(2,int(np.sqrt(p))+1):\n",
    "        if p%i==0:\n",
    "            return print(p, \"er et sammensat tal med faktorerne\", i, \"og\", p//i)\n",
    "    return print(p, \"er et primtal\")"
   ]
  },
  {
   "source": [
    "Vi kigger nu på primtalssierne"
   ],
   "cell_type": "markdown",
   "metadata": {}
  },
  {
   "cell_type": "code",
   "execution_count": 40,
   "metadata": {},
   "outputs": [],
   "source": [
    "import numpy as np\n",
    "def prim_si(n):   # Eratosthenes primtalssi\n",
    "    is_prime = np.ones((n+1,), dtype=bool)\n",
    "    is_prime[:2] = 0\n",
    "    N_max = int(np.sqrt(n)+1)\n",
    "    for j in range(2, N_max +1):\n",
    "        is_prime[2*j::j] = 0\n",
    "    return np.nonzero(is_prime)[0]"
   ]
  },
  {
   "cell_type": "code",
   "execution_count": 47,
   "metadata": {},
   "outputs": [],
   "source": [
    "def prim_si_v2(n): # Udvidedet primtalssi\n",
    "    # Vi springer nu alle værdier, der allerede er streget ud, over\n",
    "    is_prime = np.ones((n+1,), dtype=bool)\n",
    "    is_prime[:2] = 0\n",
    "    N_max = int(np.sqrt(n)+1)\n",
    "    for j in range(2, N_max +1):\n",
    "        if is_prime[j] == 1:\n",
    "            is_prime[j**2::j] = 0\n",
    "    return np.nonzero(is_prime)[0]"
   ]
  },
  {
   "source": [
    "Toke's Kode"
   ],
   "cell_type": "markdown",
   "metadata": {}
  },
  {
   "cell_type": "code",
   "execution_count": 107,
   "metadata": {},
   "outputs": [],
   "source": [
    "p = prim_si_v2(10**9)\n",
    "def CheckPrime(number):\n",
    "    maxCheck = math.floor(math.sqrt(number))\n",
    "    i = 0\n",
    "    while p[i] <= maxCheck:\n",
    "        if (number % p[i]) == 0:\n",
    "            return False\n",
    "        else:\n",
    "            i += 1\n",
    "    return True\n",
    "\n",
    "def primgen(lowestNumber):\n",
    "    b = math.ceil(lowestNumber/6)\n",
    "    a = -1\n",
    "\n",
    "    primeNumber = 1\n",
    "    while primeNumber == 1:\n",
    "        if CheckPrime(6*b - a):\n",
    "            primeNumber = (6*b - a)\n",
    "        a *= -1\n",
    "        if a == 1:\n",
    "            b += 1\n",
    "    return primeNumber\n"
   ]
  },
  {
   "cell_type": "code",
   "execution_count": 115,
   "metadata": {},
   "outputs": [
    {
     "output_type": "execute_result",
     "data": {
      "text/plain": [
       "35959420594306051"
      ]
     },
     "metadata": {},
     "execution_count": 115
    }
   ],
   "source": [
    "primgen(35959420594305940)"
   ]
  },
  {
   "source": [
    "Sandsynlighedsbaseret primtalstestning"
   ],
   "cell_type": "markdown",
   "metadata": {}
  },
  {
   "cell_type": "code",
   "execution_count": 123,
   "metadata": {},
   "outputs": [],
   "source": [
    "def fpp(n,k):      #Første sandsynlighedsbaserede primtalstestning\n",
    "    s,t = 0, n-1\n",
    "    while t%2==0:\n",
    "        s += 1\n",
    "        t //= 2\n",
    "    for _ in range(k):\n",
    "        b = secrets.randbelow(n)\n",
    "        if b==0:\n",
    "            continue\n",
    "        x = gcd(b,n)\n",
    "        if x>1:\n",
    "            return print(n, \"er et sammensat tal med faktorer\", x, \"og\", n//x)\n",
    "        if pow(b,n-1,n)>1:\n",
    "            return print(n, \"er et sammensat tal\")\n",
    "    return print(n, \"er et et primtal\")\n",
    "\n",
    "def fppnum(n,k):      #Første sandsynlighedsbaserede primtalstestning\n",
    "    s,t = 0, n-1\n",
    "    while t%2==0:\n",
    "        s += 1\n",
    "        t //= 2\n",
    "    for _ in range(k):\n",
    "        b = secrets.randbelow(n)\n",
    "        if b==0:\n",
    "            continue\n",
    "        x = gcd(b,n)\n",
    "        if x>1:\n",
    "            return False\n",
    "        if pow(b,n-1,n)>1:\n",
    "            return False\n",
    "    return True"
   ]
  },
  {
   "cell_type": "code",
   "execution_count": 124,
   "metadata": {},
   "outputs": [
    {
     "output_type": "execute_result",
     "data": {
      "text/plain": [
       "True"
      ]
     },
     "metadata": {},
     "execution_count": 124
    }
   ],
   "source": [
    "fppnum(35959420594306051,40)"
   ]
  }
 ]
}
