{
 "metadata": {
  "language_info": {
   "codemirror_mode": {
    "name": "ipython",
    "version": 3
   },
   "file_extension": ".py",
   "mimetype": "text/x-python",
   "name": "python",
   "nbconvert_exporter": "python",
   "pygments_lexer": "ipython3",
   "version": "3.8.3-final"
  },
  "orig_nbformat": 2,
  "kernelspec": {
   "name": "python38364bitvenvvenve16b2a7ddf21434281ff0e2e5464c3f1",
   "display_name": "Python 3.8.3 64-bit ('.venv': venv)"
  }
 },
 "nbformat": 4,
 "nbformat_minor": 2,
 "cells": [
  {
   "cell_type": "code",
   "execution_count": 1,
   "metadata": {},
   "outputs": [
    {
     "output_type": "stream",
     "name": "stdout",
     "text": [
      "importing Jupyter notebook from primtal.ipynb\n"
     ]
    }
   ],
   "source": [
    "import import_ipynb\n",
    "import secrets\n",
    "import numpy\n",
    "import primtal as pr"
   ]
  },
  {
   "source": [
    "Textbook RSA"
   ],
   "cell_type": "markdown",
   "metadata": {}
  },
  {
   "cell_type": "code",
   "execution_count": 2,
   "metadata": {},
   "outputs": [],
   "source": [
    "def keys_RSA(s,k): # primtal1, primtal2, n, e, d\n",
    "    # s er antal cifre\n",
    "    # k er en sikkerhedsparameter\n",
    "    p = pr.prime_generator(s,k)\n",
    "    q = pr.prime_generator(s,k)\n",
    "    phi = (p-1)*(q-1)\n",
    "    e = (2*secrets.randbelow(p*q)+1)%phi\n",
    "    for i in range(1,p*q):\n",
    "        if pr.gcd(e,phi)==1:\n",
    "            break\n",
    "        e += 2\n",
    "    return p,q, p*q, e%phi, pr.inverse(e,phi)%phi"
   ]
  },
  {
   "cell_type": "code",
   "execution_count": 3,
   "metadata": {},
   "outputs": [],
   "source": [
    "p,q,n,e,d = keys_RSA(150,20)"
   ]
  },
  {
   "cell_type": "code",
   "execution_count": 31,
   "metadata": {},
   "outputs": [],
   "source": [
    "def converter(M):\n",
    "    M = list(M)\n",
    "    for i in range(len(M)):\n",
    "        M[i] = ord(M[i])+100\n",
    "    N = 0\n",
    "    for i in range(len(M)):\n",
    "        N += M[i]*(1000**i)\n",
    "    return N\n",
    "\n",
    "def inverter(C):\n",
    "    M = []\n",
    "    for i in range(len(str(C))//3,-1,-1):\n",
    "        M.append(int(C//(1000**i)))\n",
    "    for i in range(len(M)-1,0,-1):\n",
    "        M[i] = chr((M[i]-M[i-1]*1000)-100)\n",
    "    M.reverse()\n",
    "    del M[-1]\n",
    "    N = \"\"\n",
    "    return N.join(M)\n",
    "\n",
    "def code_RSA(M,n,e):\n",
    "    return pow(M,e,n)\n",
    "\n",
    "def decode_RSA(C,n,d):\n",
    "    return pow(C,d,n)\n"
   ]
  },
  {
   "cell_type": "code",
   "execution_count": 19,
   "metadata": {},
   "outputs": [],
   "source": [
    "M = converter(\"Jeg hedder Rasmus\")\n",
    "C = code_RSA(M,n,e)"
   ]
  },
  {
   "cell_type": "code",
   "execution_count": 20,
   "metadata": {},
   "outputs": [
    {
     "output_type": "execute_result",
     "data": {
      "text/plain": [
       "'Jeg hedder Rasmus'"
      ]
     },
     "metadata": {},
     "execution_count": 20
    }
   ],
   "source": [
    "M = decode_RSA(C,n,d)\n",
    "inverter(M)"
   ]
  },
  {
   "source": [
    "RSA i praksis"
   ],
   "cell_type": "markdown",
   "metadata": {}
  },
  {
   "cell_type": "code",
   "execution_count": 17,
   "metadata": {},
   "outputs": [],
   "source": [
    "from Crypto.Cipher import PKCS1_OAEP\n",
    "from Crypto.PublicKey import RSA"
   ]
  },
  {
   "cell_type": "code",
   "execution_count": 20,
   "metadata": {},
   "outputs": [
    {
     "output_type": "execute_result",
     "data": {
      "text/plain": [
       "b'\\xb9\\xd1\\xe6\\xad+\\xeaX\\x0b\\xa9:\\x9f:\\xb7\\xc3\\x1bJ\\xa9\\x17\\xae\\xf1\\xa8\\x1f#;\\r\\x18\\x8e\\xa0\\xb5\\x8b\\xa6WW\\xd0\\xb0Xw1\\x1dJ}\\x7fQ\\x03:\\x95\\x11\\xb1\\xdbI\\x9a\\x91\\xed\\xady\\x14\\xbagbG\\tA\\xd0M\\xa8\\x00\\xeb\\xc8\\x0b\\xf1\\xda\\xb4qA)n\\xc8\\xd8~\\x99\\xbe\\xdc\\x8a\\x98]M\\x06~\\xee\\xc3i\\xf86\\xabi\\x02\\x06\\x8d#\\x9d\\xd0\\xde\\xf3\\xb4\\xd2\\x01uo ^\\x83g\\xb6\\xa8K,\\x86\\rS\\xcb\\xf7\\xa2\\xe6\\xa2G\\xdd\\x95\\x9f\\x80\"\\xc8&S\\xe4\\xf4a\\xc1v\\x95\\xf9\\xe7\\xa0Q\\x900\\x1c[>\\x95\\xf8T\\xee\\xd3cJ\\x03\\xd6\\xa4\\xff\\xe8\\xe1\\xd3r\\x10\\xc3\\xd9\\xa3fJptk$(\\xf7\\x04\\xc8\\x14\\x9a\\xcf\\xa83~\\x0c\\xc3\\xea\\xff\\x19j\\xcb\\xafJb\\xc4S\\x1db\\xc4\\'\\x9a\\x89\\xbe\\xc7\\xce\\x95\\x0f\\x0b\\\\Gt\"\\x0e\\x03\\xf5\\xa5\\xc2\"\\xd4\\x15\\x17\\x12 \\x02\\xfbI\\xea\\xe9\\x91\\x82\\xb7Vv\\x8f\\xda\\x13L\\xe7?&\\xdf\\xbc\\x03}\\xbd\\xbd+\\xb7S\\xab\\x14\\xe5\\xb1\\'!\\xf5\\xd9'"
      ]
     },
     "metadata": {},
     "execution_count": 20
    }
   ],
   "source": [
    "key = RSA.generate(2048)"
   ]
  },
  {
   "cell_type": "code",
   "execution_count": 27,
   "metadata": {},
   "outputs": [
    {
     "output_type": "execute_result",
     "data": {
      "text/plain": [
       "b'\\x03\\xba\\x1e\\x17V\\xb2\\x9e+\\\\p\\x04\\xd4\\xb4@E\\xd1\\x1f*^*J\\xd9^%\\xf0\\xf5\\x81\\xa4ih\\xa2y\\xb8\\xdb2\\xc8\\xef\\xfa\\xcc,A \\x93\\xf1\\x8cS%\\xff\\x98(\\x88\\xb1V\\xe7\\x11\\xc9\\x9f\\x85AE-?u\\xe3pS\\x0b(>?*\\xe2\\xa3&]8\\xc9~\\x9b\\xbd\\xab\\xbf\\xd1:%\\xce-\\xd8\\xe1~\\x91`L\\xe4\\xecy=\\xdf\\xd3\\xb4\\x1c\\xfd\\x04\\x0c\\x82:\\xf2ID\\x00Y1\\n\\x1b\\x15\\xc4\\x9f\\xf3\\xcd\\x02\\xa3\\x84U\\xf8\\xeb\\x11\\x19i\\xc9\\x93\\xe6\\x93\\xfaA\\x1e\\xdc]\\xa6\\n+\"\\xe4p\\x93\\x90\\xe0\\xa5r\\x0c\\x94\\xdb\\xfb\\xb1\\xea7\\xdd\\xf7\"\\x8dm\\x86`#\\xf7\\xf0CBh\\x9a\\xcb;\\xa2\\xc7]\\xff\\xbd\\xc1\\xf6\\xba\\xc2\\x93\\xc5\\x9e>\\x86\\xf7\\x0b\\xe2\\xd1\\xdf\\xe5\\xb4\\xc2\\xc58\\x07\\xb1@\\xe4\\x02\\xfd\\x18Ky\\x8b\\xa9\\xa1\\x9e\\xa2RxdT\\xa1\\xe7\\xae\\xe4=\\x15\\xdfr\\xf5\\xc1& A\\xf0\\x81\\x07}\\xbc\\x19\\x01~\\x9d}L\\xf6\\x85el\\x9a\\xbc\\xfd\\xf1\\xba\\xda\\xe4\\xb3mG*\\xed\\x91m\\x1c'"
      ]
     },
     "metadata": {},
     "execution_count": 27
    }
   ],
   "source": [
    "M = b\"Jeg hedder Rasmus\"\n",
    "cipher = PKCS1_OAEP.new(key)\n",
    "ciphertext = cipher.encrypt(M)\n",
    "ciphertext"
   ]
  },
  {
   "cell_type": "code",
   "execution_count": 28,
   "metadata": {},
   "outputs": [
    {
     "output_type": "execute_result",
     "data": {
      "text/plain": [
       "b'Jeg hedder Rasmus'"
      ]
     },
     "metadata": {},
     "execution_count": 28
    }
   ],
   "source": [
    "cipher.decrypt(ciphertext)"
   ]
  },
  {
   "cell_type": "code",
   "execution_count": 29,
   "metadata": {},
   "outputs": [
    {
     "output_type": "execute_result",
     "data": {
      "text/plain": [
       "<Crypto.Cipher.PKCS1_OAEP.PKCS1OAEP_Cipher at 0x1c83a589a60>"
      ]
     },
     "metadata": {},
     "execution_count": 29
    }
   ],
   "source": [
    "cipher"
   ]
  }
 ]
}